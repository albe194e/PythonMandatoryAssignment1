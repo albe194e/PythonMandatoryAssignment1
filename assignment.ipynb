{
 "cells": [
  {
   "cell_type": "code",
   "execution_count": 27,
   "metadata": {},
   "outputs": [],
   "source": [
    "#1\n",
    "BOD = {\"Benny\", \"Hans\", \"Tine\", \"Mille\", \"Torben\", \"Troels\", \"Søren\"};\n",
    "management = {\"Tine\", \"Trunte\", \"Rane\"};\n",
    "employees = {\"Niels\", \"Anna\", \"Tine\", \"Ole\", \"Trunte\", \"Bent\", \"Rane\", \"Allan\", \"Stine\", \"Claus\", \"James\", \"Lars\"};\n",
    "\n",
    "#1.a\n",
    "#Strip away employees\n",
    "managementNotEmp = management.difference(employees);\n",
    "BODNotEmp = BOD.difference(employees);\n",
    "\n",
    "#Strip away duplicates\n",
    "notEmployees = managementNotEmp;\n",
    "notEmployees.symmetric_difference_update(BODNotEmp)\n",
    "\n",
    "print(notEmployees)\n",
    "\n",
    "#1.b\n",
    "alsoEmp = BOD.intersection(employees)\n",
    "\n",
    "print(alsoEmp)\n",
    "\n",
    "#1.c\n",
    "BODFromManagement = management.intersection(BOD)\n",
    "print(BODFromManagement.__len__())\n",
    "\n",
    "#1.d\n",
    "emplFromManagement = management.intersection(employees)\n",
    "print(emplFromManagement)\n",
    "\n",
    "#1.e\n",
    "BODFromManagement = management.intersection(BOD)\n",
    "print(BODFromManagement)\n",
    "\n",
    "#1.f\n",
    "\n",
    "allRoles = employees;\n",
    "allRoles.intersection_update(management, BOD);\n",
    "\n",
    "print(allRoles);\n",
    "\n",
    "#1.g\n",
    "\n",
    "onlyEmp = employees;\n",
    "\n",
    "onlyEmp.difference_update(management)\n",
    "onlyEmp.difference_update(BOD)\n",
    "\n",
    "print(onlyEmp);"
   ]
  },
  {
   "cell_type": "code",
   "execution_count": 29,
   "metadata": {},
   "outputs": [
    {
     "name": "stdout",
     "output_type": "stream",
     "text": [
      "['Alpha', 'Beta', 'Gamma']\n"
     ]
    }
   ],
   "source": [
    "#2\n",
    "a = (\"Alpha\")\n",
    "b = (\"Beta\")\n",
    "g = (\"Gamma\")\n",
    "list = [a,b,g]\n",
    "\n",
    "print(list)"
   ]
  },
  {
   "cell_type": "code",
   "execution_count": 41,
   "metadata": {},
   "outputs": [
    {
     "name": "stdout",
     "output_type": "stream",
     "text": [
      "{'u', 'i', 'ø', 'æ', 'a', 'å', 'e', 'y', 'o'}\n",
      "{'u', 'i', 'ø', 'æ', 'a', 'å', 'e', 'y', 'o'}\n",
      "{'ø', 'æ', 'å'}\n",
      "{'ø', 'æ', 'å'}\n",
      "set()\n",
      "set()\n",
      "{'u', 'i', 'a', 'e', 'y', 'o'}\n",
      "{'u', 'i', 'a', 'e', 'y', 'o'}\n"
     ]
    }
   ],
   "source": [
    "#3\n",
    "set1 = {'a', 'e', 'i', 'o', 'u', 'y'}\n",
    "set2 = {'a', 'e', 'i', 'o', 'u', 'y', 'æ' ,'ø', 'å'}\n",
    "\n",
    "#3.a\n",
    "unionSet1 = set1.union(set2);\n",
    "unionSet2 = set1 | set2;\n",
    "print(unionSet1)\n",
    "print(unionSet2)\n",
    "\n",
    "#3.b\n",
    "symmetricDiffSet1 = set1.symmetric_difference(set2)\n",
    "symmetricDiffSet2 = set1 ^ set2;\n",
    "print(symmetricDiffSet1)\n",
    "print(symmetricDiffSet2)\n",
    "\n",
    "#3.c\n",
    "diffSet1 = set1.difference(set2);\n",
    "diffSet2 = set1 - set2;\n",
    "print(diffSet1)\n",
    "print(diffSet2)\n",
    "\n",
    "#3.d\n",
    "intersectSet1 = set1.intersection(set2);\n",
    "intersectSet2 = set1 & set2;\n",
    "print(intersectSet1)\n",
    "print(intersectSet2)"
   ]
  },
  {
   "cell_type": "code",
   "execution_count": 46,
   "metadata": {},
   "outputs": [
    {
     "name": "stdout",
     "output_type": "stream",
     "text": [
      "('2021', 3, '8')\n"
     ]
    }
   ],
   "source": [
    "#4\n",
    "\n",
    "monthDecode = {\n",
    "    \"JAN\" : 1,\n",
    "    \"FEB\" : 2,\n",
    "    \"MAR\" : 3,\n",
    "    \"APR\" : 4,\n",
    "    \"MAY\" : 5,\n",
    "    \"JUN\" : 6,\n",
    "    \"JUL\" : 7,\n",
    "    \"AUG\" : 8,\n",
    "    \"SEP\" : 9,\n",
    "    \"OKT\" : 10,\n",
    "    \"NOV\" : 11,\n",
    "    \"DEC\" : 12,\n",
    "}\n",
    "\n",
    "def decodeDate(date = str) -> tuple:\n",
    "\n",
    "    dateSplitted = date.split('-')\n",
    "\n",
    "    year = dateSplitted[2];\n",
    "    month = monthDecode.__getitem__(dateSplitted[1]);\n",
    "    day = dateSplitted[0];\n",
    "\n",
    "    if int(year) > 23:\n",
    "        year = \"19\" + year;\n",
    "    else:\n",
    "        year = \"20\" + year;\n",
    "\n",
    "    return (year, month, day);\n",
    "\n",
    "print(decodeDate(\"8-MAR-21\"));\n"
   ]
  },
  {
   "cell_type": "code",
   "execution_count": 52,
   "metadata": {},
   "outputs": [
    {
     "name": "stdout",
     "output_type": "stream",
     "text": [
      "Not responed: {'Troels', 'Mille', 'Torben', 'Benny', 'Hans', 'Søren'}\n",
      "Responed but not invited: {'Rane', 'Ole', 'Niels', 'Allan', 'Claus', 'Lars', 'Bent', 'Anna', 'Trunte', 'James', 'Stine'}\n",
      "Responed and invited: {'Tine'}\n"
     ]
    }
   ],
   "source": [
    "#5\n",
    "\n",
    "invited = {\"Benny\", \"Hans\", \"Tine\", \"Mille\", \"Torben\", \"Troels\", \"Søren\"}\n",
    "RSVP = {\"Niels\", \"Anna\", \"Tine\", \"Ole\", \"Trunte\", \"Bent\", \"Rane\", \"Allan\", \"Stine\", \"Claus\", \"James\", \"Lars\"}\n",
    "\n",
    "notResponded = invited.difference(RSVP);\n",
    "responedNotInvited = RSVP.difference(invited)\n",
    "invitedAndResponed = invited.intersection(RSVP)\n",
    "\n",
    "print(\"Not responed: {}\".format(notResponded))\n",
    "print(\"Responed but not invited: {}\".format(responedNotInvited))\n",
    "print(\"Responed and invited: {}\".format(invitedAndResponed))\n",
    "\n",
    "\n",
    "\n"
   ]
  },
  {
   "cell_type": "code",
   "execution_count": 55,
   "metadata": {},
   "outputs": [
    {
     "name": "stdout",
     "output_type": "stream",
     "text": [
      "Students with a score 85 or above:\n",
      "Jakob\n",
      "Hans\n",
      "Simone\n"
     ]
    }
   ],
   "source": [
    "#6\n",
    "students = {\n",
    "    \"Jakob\" : 56,\n",
    "    \"Hans\" : 96,\n",
    "    \"Albert\" : 12,\n",
    "    \"Lars\" : 46,\n",
    "    \"Simone\" : 86,\n",
    "    \"Lærke\" : 67,\n",
    "}\n",
    "\n",
    "#Updating grade\n",
    "students[\"Jakob\"] = 89;\n",
    "\n",
    "print(\"Students with a score 85 or above:\")\n",
    "for student in students:\n",
    "    if students[student] > 85:\n",
    "        print(student)"
   ]
  }
 ],
 "metadata": {
  "kernelspec": {
   "display_name": "Python 3",
   "language": "python",
   "name": "python3"
  },
  "language_info": {
   "codemirror_mode": {
    "name": "ipython",
    "version": 3
   },
   "file_extension": ".py",
   "mimetype": "text/x-python",
   "name": "python",
   "nbconvert_exporter": "python",
   "pygments_lexer": "ipython3",
   "version": "3.11.5"
  },
  "orig_nbformat": 4
 },
 "nbformat": 4,
 "nbformat_minor": 2
}
